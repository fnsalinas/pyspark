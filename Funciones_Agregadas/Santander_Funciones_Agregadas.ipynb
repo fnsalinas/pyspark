{
 "cells": [
  {
   "cell_type": "code",
   "execution_count": 1,
   "metadata": {
    "collapsed": true
   },
   "outputs": [],
   "source": [
    "import findspark\n",
    "findspark.init()\n",
    "import sys\n",
    "import pyspark"
   ]
  },
  {
   "cell_type": "code",
   "execution_count": 2,
   "metadata": {
    "collapsed": true
   },
   "outputs": [],
   "source": [
    "sc = pyspark.SparkContext()\n",
    "from pyspark.sql import HiveContext\n",
    "hiveContext = HiveContext(sc)"
   ]
  },
  {
   "cell_type": "code",
   "execution_count": 25,
   "metadata": {},
   "outputs": [],
   "source": [
    "from pyspark.sql import SQLContext \n",
    "from pyspark.sql import Row\n",
    "from pyspark.sql.functions import col\n",
    "from pyspark.sql.functions import struct\n",
    "from pyspark.sql.functions import *\n",
    "from pyspark.sql import DataFrame\n",
    "from collections import OrderedDict\n",
    "from pyspark.sql.types import *"
   ]
  },
  {
   "cell_type": "code",
   "execution_count": 8,
   "metadata": {},
   "outputs": [],
   "source": [
    "santander = hiveContext.table(\"spark_data.santander_completa\")"
   ]
  },
  {
   "cell_type": "code",
   "execution_count": 61,
   "metadata": {},
   "outputs": [
    {
     "name": "stdout",
     "output_type": "stream",
     "text": [
      "root\n",
      " |-- age: string (nullable = true)\n",
      " |-- antiguedad: string (nullable = true)\n",
      " |-- canal_entrada: string (nullable = true)\n",
      " |-- cod_prov: string (nullable = true)\n",
      " |-- conyuemp: string (nullable = true)\n",
      " |-- fecha_alta: string (nullable = true)\n",
      " |-- fecha_dato: string (nullable = true)\n",
      " |-- ind_actividad_cliente: string (nullable = true)\n",
      " |-- ind_empleado: string (nullable = true)\n",
      " |-- ind_nuevo: string (nullable = true)\n",
      " |-- indext: string (nullable = true)\n",
      " |-- indfall: string (nullable = true)\n",
      " |-- indrel: string (nullable = true)\n",
      " |-- indrel_1mes: string (nullable = true)\n",
      " |-- indresi: string (nullable = true)\n",
      " |-- ncodpers: string (nullable = true)\n",
      " |-- nomprov: string (nullable = true)\n",
      " |-- pais_residencia: string (nullable = true)\n",
      " |-- renta: string (nullable = true)\n",
      " |-- segmento: string (nullable = true)\n",
      " |-- sexo: string (nullable = true)\n",
      " |-- tipodom: string (nullable = true)\n",
      " |-- tiprel_1mes: string (nullable = true)\n",
      " |-- ult_fec_cli_1t: string (nullable = true)\n",
      "\n"
     ]
    }
   ],
   "source": [
    "santander.printSchema()"
   ]
  },
  {
   "cell_type": "code",
   "execution_count": 90,
   "metadata": {},
   "outputs": [
    {
     "name": "stdout",
     "output_type": "stream",
     "text": [
      "+---+-------------+-----+\n",
      "|age|canal_entrada|count|\n",
      "+---+-------------+-----+\n",
      "| 49|          KFC| 5579|\n",
      "| 90|          KFA|   96|\n",
      "| 30|          KBG|    4|\n",
      "| 13|          KHD|    2|\n",
      "| 47|          KHO|   20|\n",
      "| 76|          KHK|   31|\n",
      "| 82|          KHL|    5|\n",
      "| 67|          KEN|    4|\n",
      "| 88|          KAG|   22|\n",
      "+---+-------------+-----+\n",
      "only showing top 9 rows\n",
      "\n"
     ]
    }
   ],
   "source": [
    "agrupado = santander.groupby(\"age\",\"canal_entrada\").count().alias(\"conteo\")\n",
    "agrupado.show(9)"
   ]
  },
  {
   "cell_type": "code",
   "execution_count": 111,
   "metadata": {},
   "outputs": [
    {
     "name": "stdout",
     "output_type": "stream",
     "text": [
      "+--------------+------------+-----+\n",
      "|genero_usuario|edad_usuario|count|\n",
      "+--------------+------------+-----+\n",
      "|             M|          20|10292|\n",
      "|             M|          21|16044|\n",
      "|             M|          22|20710|\n",
      "|             M|          23|29252|\n",
      "|             F|          40| 7232|\n",
      "|             M|          24|42182|\n",
      "|             F|          41| 6044|\n",
      "|             M|          25|58062|\n",
      "|             F|          42| 6360|\n",
      "|             M|          26|61404|\n",
      "+--------------+------------+-----+\n",
      "only showing top 10 rows\n",
      "\n"
     ]
    }
   ],
   "source": [
    "ecobici = hiveContext.table(\"spark_data.ecobici\")\n",
    "agrupados =  ecobici.groupby(\"genero_usuario\",\"edad_usuario\").count().alias(\"conteo\")\n",
    "agrupados.show(10)"
   ]
  },
  {
   "cell_type": "code",
   "execution_count": 102,
   "metadata": {},
   "outputs": [],
   "source": [
    "agrupados =  santander.groupby(\"age\").agg(avg(col(\"renta\").cast(\"int\")).alias(\"promedio_renta\"))"
   ]
  },
  {
   "cell_type": "code",
   "execution_count": 103,
   "metadata": {
    "collapsed": true
   },
   "outputs": [],
   "source": [
    "agrupados2 =  santander.groupby(\"age\").agg(max(col(\"renta\").cast(\"int\")).alias(\"promedio_renta\"))"
   ]
  },
  {
   "cell_type": "code",
   "execution_count": 107,
   "metadata": {},
   "outputs": [
    {
     "name": "stdout",
     "output_type": "stream",
     "text": [
      "+---+--------------+\n",
      "|age|promedio_renta|\n",
      "+---+--------------+\n",
      "| 50|      25547251|\n",
      "| 51|             1|\n",
      "| 52|      11139895|\n",
      "| 53|      28894395|\n",
      "| 54|             1|\n",
      "| 55|             1|\n",
      "| 56|      11218688|\n",
      "| 57|             1|\n",
      "| 58|      22034738|\n",
      "| 59|             1|\n",
      "+---+--------------+\n",
      "only showing top 10 rows\n",
      "\n"
     ]
    }
   ],
   "source": [
    "agrupados2.show(10)"
   ]
  },
  {
   "cell_type": "code",
   "execution_count": 108,
   "metadata": {},
   "outputs": [
    {
     "name": "stdout",
     "output_type": "stream",
     "text": [
      "+---+-------------------+\n",
      "|age|     promedio_renta|\n",
      "+---+-------------------+\n",
      "| 50| 113671.03562945368|\n",
      "| 51|  0.489171974522293|\n",
      "| 52|  29410.14010989011|\n",
      "| 53|   43255.5628742515|\n",
      "| 54| 0.4991735537190083|\n",
      "| 55|0.46113989637305697|\n",
      "| 56| 42106.996233521655|\n",
      "| 57|0.48096192384769537|\n",
      "| 58|    67824.900203666|\n",
      "| 59|0.45893719806763283|\n",
      "+---+-------------------+\n",
      "only showing top 10 rows\n",
      "\n"
     ]
    }
   ],
   "source": [
    "agrupados.show(10)"
   ]
  },
  {
   "cell_type": "code",
   "execution_count": 112,
   "metadata": {
    "collapsed": true
   },
   "outputs": [],
   "source": [
    "agrupado = santander.groupby(\"age\",\"canal_entrada\",\"pais_residencia\").avg().alias(\"promedio\")"
   ]
  },
  {
   "cell_type": "code",
   "execution_count": 114,
   "metadata": {},
   "outputs": [
    {
     "name": "stdout",
     "output_type": "stream",
     "text": [
      "+---+-------------+---------------+\n",
      "|age|canal_entrada|pais_residencia|\n",
      "+---+-------------+---------------+\n",
      "| 34|          KHN|             ES|\n",
      "| 42|          KFC|             ES|\n",
      "| 86|          KHE|             ES|\n",
      "| 40|          KHO|             ES|\n",
      "| 28|          KHM|             ES|\n",
      "| 32|          KFA|             VE|\n",
      "| 57|          KAZ|             ES|\n",
      "| 46|          KAT|             FR|\n",
      "| 34|          KHE|             CN|\n",
      "| 47|          KFC|             DE|\n",
      "+---+-------------+---------------+\n",
      "only showing top 10 rows\n",
      "\n"
     ]
    }
   ],
   "source": [
    "agrupado.show(10)"
   ]
  },
  {
   "cell_type": "code",
   "execution_count": 64,
   "metadata": {},
   "outputs": [],
   "source": [
    "resumen= santander.select(avg(col(\"age\").cast(\"int\")).alias(\"promedio\") , max(col(\"age\").cast(\"int\")).alias(\"maximo\"),\\\n",
    "                          min(col(\"age\").cast(\"int\")).alias(\"minimo\") ,\\\n",
    "                          sum(col(\"age\").cast(\"int\")).alias(\"suma\"),\\\n",
    "                          avg(col(\"renta\").cast(\"int\")).alias(\"promedio_renta\")\n",
    "                          \n",
    "                         )"
   ]
  },
  {
   "cell_type": "code",
   "execution_count": 110,
   "metadata": {},
   "outputs": [
    {
     "name": "stdout",
     "output_type": "stream",
     "text": [
      "+------------------+------+------+------+-----------------+\n",
      "|          promedio|maximo|minimo|  suma|   promedio_renta|\n",
      "+------------------+------+------+------+-----------------+\n",
      "|103.45594179466451|   164|   100|127975|17625.42585469018|\n",
      "+------------------+------+------+------+-----------------+\n",
      "\n"
     ]
    }
   ],
   "source": [
    "resumen.show()"
   ]
  },
  {
   "cell_type": "code",
   "execution_count": 65,
   "metadata": {},
   "outputs": [
    {
     "name": "stdout",
     "output_type": "stream",
     "text": [
      "root\n",
      " |-- promedio: double (nullable = true)\n",
      " |-- maximo: integer (nullable = true)\n",
      " |-- minimo: integer (nullable = true)\n",
      " |-- suma: long (nullable = true)\n",
      " |-- promedio_renta: double (nullable = true)\n",
      "\n"
     ]
    }
   ],
   "source": [
    "resumen.printSchema()"
   ]
  },
  {
   "cell_type": "code",
   "execution_count": 66,
   "metadata": {},
   "outputs": [
    {
     "data": {
      "text/plain": [
       "DataFrame[summary: string, promedio: string, maximo: string, minimo: string, suma: string, promedio_renta: string]"
      ]
     },
     "execution_count": 66,
     "metadata": {},
     "output_type": "execute_result"
    }
   ],
   "source": [
    "resumen.describe()"
   ]
  }
 ],
 "metadata": {
  "kernelspec": {
   "display_name": "Python 2",
   "language": "python",
   "name": "python2"
  },
  "language_info": {
   "codemirror_mode": {
    "name": "ipython",
    "version": 2
   },
   "file_extension": ".py",
   "mimetype": "text/x-python",
   "name": "python",
   "nbconvert_exporter": "python",
   "pygments_lexer": "ipython2",
   "version": "2.7.13"
  }
 },
 "nbformat": 4,
 "nbformat_minor": 2
}
