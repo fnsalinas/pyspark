{
 "cells": [
  {
   "cell_type": "code",
   "execution_count": 1,
   "metadata": {
    "collapsed": true
   },
   "outputs": [],
   "source": [
    "import findspark\n",
    "findspark.init()\n",
    "import sys\n",
    "import pyspark"
   ]
  },
  {
   "cell_type": "code",
   "execution_count": 2,
   "metadata": {},
   "outputs": [],
   "source": [
    "sc = pyspark.SparkContext(\"yarn-client\", \"Parametrizacion\")\n",
    "from pyspark.sql import HiveContext\n",
    "hiveContext = HiveContext(sc)"
   ]
  },
  {
   "cell_type": "code",
   "execution_count": 3,
   "metadata": {
    "collapsed": true
   },
   "outputs": [],
   "source": [
    "fileName = \"/data_lake/Spark_Citi/input/parametros_citi_destinos.json\" \n",
    "data = hiveContext.read.format(\"json\").option('encoding', 'UTF-8').load(fileName)\n",
    "data2 = data.rdd.collectAsMap()\n",
    "\n",
    "\n",
    "\n"
   ]
  },
  {
   "cell_type": "code",
   "execution_count": 4,
   "metadata": {},
   "outputs": [
    {
     "name": "stdout",
     "output_type": "stream",
     "text": [
      "+----------+--------------------+\n",
      "|       key|                name|\n",
      "+----------+--------------------+\n",
      "|  BDorigen|          spark_data|\n",
      "| BDdestino|        Citibanamex2|\n",
      "|tblEcobici|             ecobici|\n",
      "|    ModoOR|           overwrite|\n",
      "|   ModoApp|              append|\n",
      "|      tblH|     ecobici_hombres|\n",
      "|      tblM|     ecobici_mujeres|\n",
      "|   CamposM|genero_usuario,ed...|\n",
      "|   CamposH|genero_usuario,ed...|\n",
      "+----------+--------------------+\n",
      "\n"
     ]
    }
   ],
   "source": [
    "data = hiveContext.read.format(\"json\").option('encoding', 'UTF-8').load(fileName)\n",
    "data.show()"
   ]
  },
  {
   "cell_type": "code",
   "execution_count": 5,
   "metadata": {},
   "outputs": [
    {
     "data": {
      "text/plain": [
       "{u'BDdestino': u'Citibanamex2',\n",
       " u'BDorigen': u'spark_data',\n",
       " u'CamposH': u'genero_usuario,edad_usuario,ciclo_estacion_retiro',\n",
       " u'CamposM': u'genero_usuario,edad_usuario,fecha_retiro,hora_retiro',\n",
       " u'ModoApp': u'append',\n",
       " u'ModoOR': u'overwrite',\n",
       " u'tblEcobici': u'ecobici',\n",
       " u'tblH': u'ecobici_hombres',\n",
       " u'tblM': u'ecobici_mujeres'}"
      ]
     },
     "execution_count": 5,
     "metadata": {},
     "output_type": "execute_result"
    }
   ],
   "source": [
    "sc.broadcast(data2).value"
   ]
  },
  {
   "cell_type": "code",
   "execution_count": 91,
   "metadata": {
    "collapsed": true
   },
   "outputs": [],
   "source": [
    "def carga_vars():\n",
    "    global bd_destino,bd_origen,modoOR,modoApp,tblH,tblM,camposH,camposM,tblEcobici   \n",
    "    bd_destino = sc.broadcast(data2).value.get('BDdestino').encode('latin1')\n",
    "    bd_origen = sc.broadcast(data2).value.get('BDorigen').encode('latin1')\n",
    "    tblEcobici = sc.broadcast(data2).value.get('tblEcobici').encode('latin1')\n",
    "    modoOR = sc.broadcast(data2).value.get('ModoApp').encode('latin1')\n",
    "    modoApp = sc.broadcast(data2).value.get('ModoOR').encode('latin1')\n",
    "    tblH = sc.broadcast(data2).value.get('tblH').encode('latin1')\n",
    "    tblM = sc.broadcast(data2).value.get('tblM').encode('latin1')\n",
    "    camposM = sc.broadcast(data2).value.get('CamposM').encode('latin1')\n",
    "    camposH = sc.broadcast(data2).value.get('CamposH').encode('latin1') \n",
    "    \n",
    "    return (bd_destino,bd_origen,modoOR,modoApp,tblH,tblM,camposH,camposM,tblEcobici)\n",
    "\n",
    "\n",
    "\n",
    "def carga_listas():\n",
    "    global list_h,list_m\n",
    "    list_h = []\n",
    "    list_m = []\n",
    "    for x_ in camposM.split(\",\"):\n",
    "        list_h.append('' + x_.lower() + '')\n",
    "        \n",
    "    for x_ in camposM.split(\",\"):\n",
    "        list_m.append('' + x_.lower() + '')\n",
    "\n",
    "    return(list_h,list_m)"
   ]
  },
  {
   "cell_type": "code",
   "execution_count": 94,
   "metadata": {},
   "outputs": [
    {
     "data": {
      "text/plain": [
       "(['genero_usuario', 'edad_usuario', 'fecha_retiro', 'hora_retiro'],\n",
       " ['genero_usuario', 'edad_usuario', 'fecha_retiro', 'hora_retiro'])"
      ]
     },
     "execution_count": 94,
     "metadata": {},
     "output_type": "execute_result"
    }
   ],
   "source": [
    "carga_vars()\n",
    "carga_listas()"
   ]
  },
  {
   "cell_type": "code",
   "execution_count": 118,
   "metadata": {
    "collapsed": true
   },
   "outputs": [],
   "source": [
    "tablaHombres = hiveContext.table(bd_origen +\".\" + tblEcobici).select(list_h)"
   ]
  },
  {
   "cell_type": "code",
   "execution_count": 119,
   "metadata": {},
   "outputs": [
    {
     "name": "stdout",
     "output_type": "stream",
     "text": [
      "root\n",
      " |-- genero_usuario: string (nullable = true)\n",
      " |-- edad_usuario: string (nullable = true)\n",
      " |-- fecha_retiro: string (nullable = true)\n",
      " |-- hora_retiro: string (nullable = true)\n",
      "\n"
     ]
    }
   ],
   "source": [
    "tablaHombres.printSchema()"
   ]
  },
  {
   "cell_type": "code",
   "execution_count": 115,
   "metadata": {
    "collapsed": true
   },
   "outputs": [],
   "source": [
    "lista=(\"genero_usuario\",\"edad_usuario\",\"fecha_retiro\",\"hora_retiro\")\n",
    "tablaHombres2 = hiveContext.table(bd_origen +\".\" + tblEcobici).select(list_h)"
   ]
  }
 ],
 "metadata": {
  "kernelspec": {
   "display_name": "Python 2",
   "language": "python",
   "name": "python2"
  },
  "language_info": {
   "codemirror_mode": {
    "name": "ipython",
    "version": 2
   },
   "file_extension": ".py",
   "mimetype": "text/x-python",
   "name": "python",
   "nbconvert_exporter": "python",
   "pygments_lexer": "ipython2",
   "version": "2.7.13"
  }
 },
 "nbformat": 4,
 "nbformat_minor": 2
}
