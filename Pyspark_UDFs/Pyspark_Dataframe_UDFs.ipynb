{
 "cells": [
  {
   "cell_type": "code",
   "execution_count": 1,
   "metadata": {
    "collapsed": true
   },
   "outputs": [],
   "source": [
    "import findspark\n",
    "findspark.init()\n",
    "import pyspark\n",
    "from pyspark import SparkContext\n",
    "from pyspark import HiveContext\n",
    "from pyspark.sql.types import *\n",
    "from pyspark.sql.functions import *\n",
    "from pyspark.sql import Row, functions as F\n",
    "from pyspark.sql.functions import lpad, substring\n",
    "from pyspark.sql.window import Window\n",
    "#from pyspark.sql import SparkSession\n",
    "from pyspark import SparkContext\n",
    "from pyspark import SparkConf\n",
    "from datetime import date, timedelta\n",
    "\n",
    "import os\n",
    "import sys\n",
    "import datetime"
   ]
  },
  {
   "cell_type": "code",
   "execution_count": 3,
   "metadata": {
    "collapsed": true
   },
   "outputs": [],
   "source": [
    "sc = SparkContext(\"yarn-client\", \"Citi_Yarn\")\n",
    "from pyspark.sql import HiveContext\n",
    "sqlContext = HiveContext(sc)\n",
    "hiveContext = HiveContext(sc)"
   ]
  },
  {
   "cell_type": "code",
   "execution_count": null,
   "metadata": {
    "collapsed": true
   },
   "outputs": [],
   "source": []
  },
  {
   "cell_type": "code",
   "execution_count": 19,
   "metadata": {},
   "outputs": [],
   "source": [
    "#Funcion 1\n",
    "def actualizaClave(clave):\n",
    "    actualiza=(clave*10) + 20\n",
    "    return actualiza\n",
    "\n",
    "#Funcion que volvemos UDF\n",
    "actualizaClave = udf(actualizaClave)\n",
    "\n",
    "\n",
    "#Funcion 2\n",
    "def calculo(z):\n",
    "    return z * z\n",
    "    \n",
    "#Funcion que volvemos UDF\n",
    "cuadrado = udf(calculo)\n",
    "\n",
    "#Funcion 2\n",
    "def calculo(z):\n",
    "    return z * z\n",
    "    \n",
    "#Funcion que volvemos UDF\n",
    "cuadrado = udf(calculo)\n",
    "\n",
    "\n",
    "\n",
    "\n",
    "#Funcion 3\n",
    "def mayusculas(z):\n",
    "    return z.upper()\n",
    "\n",
    "#Funcion que volvemos UDF\n",
    "mayus = udf(mayusculas)\n",
    "\n",
    "#Funcion 4\n",
    "\n",
    "def HoM(z):\n",
    "    if z == 'M':\n",
    "        genero=\"Hombre\"\n",
    "    else:\n",
    "        genero=\"Hombre\"\n",
    "    return genero\n",
    "\n",
    "\n",
    "#Funcion que volvemos UDF\n",
    "defineGenero = udf(HoM)\n",
    "\n",
    "\n",
    "\n"
   ]
  },
  {
   "cell_type": "code",
   "execution_count": 20,
   "metadata": {
    "collapsed": true
   },
   "outputs": [],
   "source": [
    "fecha=datetime.datetime.now().strftime (\"%y%m%d\")  \n",
    "estado=\"CDMX\"\n",
    "pais=\"Mexico\"\n",
    "empresa=\"Apple\"\n",
    "anio=\"2018\""
   ]
  },
  {
   "cell_type": "code",
   "execution_count": 21,
   "metadata": {
    "collapsed": true
   },
   "outputs": [],
   "source": [
    "employees_avr = hiveContext.read.format(\"com.databricks.spark.avro\").load(\"/data_lake/employees/employees_avr/employees\")\n",
    "\n",
    "\n",
    "employees_mysql = sqlContext.read.format(\"jdbc\").options( url=\"jdbc:mysql://localhost:3306/employees\",driver = \"com.mysql.jdbc.Driver\",dbtable = \"employees\",user=\"root\", password=\"cloudera\").load()"
   ]
  },
  {
   "cell_type": "code",
   "execution_count": 22,
   "metadata": {
    "collapsed": true
   },
   "outputs": [],
   "source": [
    "employees_modificado = employees_avr.\\\n",
    "withColumn(\"CVE_DEPTO\", concat(lit(estado),lit(\",\"),lit(pais))).\\\n",
    "withColumn(\"FCH_Proceso\", lit(fecha).cast(StringType()))\n",
    "\n",
    "otro = employees_mysql.withColumn(\"Nva_Clave\", cuadrado(\"emp_no\")).\\\n",
    "withColumn(\"Empresa\", mayus(lit(empresa))).\\\n",
    "withColumn(\"Anio_Reproceso\",lit(anio)).\\\n",
    "withColumn(\"Sexo\", defineGenero(\"gender\") )\n",
    "\n"
   ]
  },
  {
   "cell_type": "code",
   "execution_count": 47,
   "metadata": {},
   "outputs": [
    {
     "name": "stdout",
     "output_type": "stream",
     "text": [
      "+------+----------+----------+-----------+------+----------+---------+-------+--------------+------+\n",
      "|emp_no|birth_date|first_name|  last_name|gender| hire_date|Nva_Clave|Empresa|Anio_Reproceso|  Sexo|\n",
      "+------+----------+----------+-----------+------+----------+---------+-------+--------------+------+\n",
      "| 10001|1953-09-02|    Georgi|    Facello|     M|1986-06-26|100020001|  APPLE|          2018|Hombre|\n",
      "| 10002|1964-06-02|   Bezalel|     Simmel|     F|1985-11-21|100040004|  APPLE|          2018|Hombre|\n",
      "| 10003|1959-12-03|     Parto|    Bamford|     M|1986-08-28|100060009|  APPLE|          2018|Hombre|\n",
      "| 10004|1954-05-01| Chirstian|    Koblick|     M|1986-12-01|100080016|  APPLE|          2018|Hombre|\n",
      "| 10005|1955-01-21|   Kyoichi|   Maliniak|     M|1989-09-12|100100025|  APPLE|          2018|Hombre|\n",
      "| 10006|1953-04-20|    Anneke|    Preusig|     F|1989-06-02|100120036|  APPLE|          2018|Hombre|\n",
      "| 10007|1957-05-23|   Tzvetan|  Zielinski|     F|1989-02-10|100140049|  APPLE|          2018|Hombre|\n",
      "| 10008|1958-02-19|    Saniya|   Kalloufi|     M|1994-09-15|100160064|  APPLE|          2018|Hombre|\n",
      "| 10009|1952-04-19|    Sumant|       Peac|     F|1985-02-18|100180081|  APPLE|          2018|Hombre|\n",
      "| 10010|1963-06-01| Duangkaew|   Piveteau|     F|1989-08-24|100200100|  APPLE|          2018|Hombre|\n",
      "| 10011|1953-11-07|      Mary|      Sluis|     F|1990-01-22|100220121|  APPLE|          2018|Hombre|\n",
      "| 10012|1960-10-04|  Patricio|  Bridgland|     M|1992-12-18|100240144|  APPLE|          2018|Hombre|\n",
      "| 10013|1963-06-07| Eberhardt|     Terkki|     M|1985-10-20|100260169|  APPLE|          2018|Hombre|\n",
      "| 10014|1956-02-12|     Berni|      Genin|     M|1987-03-11|100280196|  APPLE|          2018|Hombre|\n",
      "| 10015|1959-08-19|  Guoxiang|  Nooteboom|     M|1987-07-02|100300225|  APPLE|          2018|Hombre|\n",
      "| 10016|1961-05-02|  Kazuhito|Cappelletti|     M|1995-01-27|100320256|  APPLE|          2018|Hombre|\n",
      "| 10017|1958-07-06| Cristinel|  Bouloucos|     F|1993-08-03|100340289|  APPLE|          2018|Hombre|\n",
      "| 10018|1954-06-19|  Kazuhide|       Peha|     F|1987-04-03|100360324|  APPLE|          2018|Hombre|\n",
      "| 10019|1953-01-23|   Lillian|    Haddadi|     M|1999-04-30|100380361|  APPLE|          2018|Hombre|\n",
      "| 10020|1952-12-24|    Mayuko|    Warwick|     M|1991-01-26|100400400|  APPLE|          2018|Hombre|\n",
      "+------+----------+----------+-----------+------+----------+---------+-------+--------------+------+\n",
      "only showing top 20 rows\n",
      "\n"
     ]
    }
   ],
   "source": [
    "otro.show()"
   ]
  },
  {
   "cell_type": "code",
   "execution_count": 31,
   "metadata": {},
   "outputs": [
    {
     "name": "stdout",
     "output_type": "stream",
     "text": [
      "root\n",
      " |-- emp_no: integer (nullable = true)\n",
      " |-- birth_date: long (nullable = true)\n",
      " |-- first_name: string (nullable = true)\n",
      " |-- last_name: string (nullable = true)\n",
      " |-- gender: string (nullable = true)\n",
      " |-- hire_date: long (nullable = true)\n",
      " |-- CVE_DEPTO: string (nullable = false)\n",
      " |-- FCH_Proceso: string (nullable = false)\n",
      "\n"
     ]
    }
   ],
   "source": [
    "employees_modificado.printSchema()"
   ]
  }
 ],
 "metadata": {
  "kernelspec": {
   "display_name": "Python 2",
   "language": "python",
   "name": "python2"
  },
  "language_info": {
   "codemirror_mode": {
    "name": "ipython",
    "version": 2
   },
   "file_extension": ".py",
   "mimetype": "text/x-python",
   "name": "python",
   "nbconvert_exporter": "python",
   "pygments_lexer": "ipython2",
   "version": "2.7.13"
  }
 },
 "nbformat": 4,
 "nbformat_minor": 2
}
