{
 "cells": [
  {
   "cell_type": "code",
   "execution_count": 1,
   "metadata": {
    "collapsed": true
   },
   "outputs": [],
   "source": [
    "import findspark\n",
    "findspark.init()\n",
    "import pyspark\n",
    "from pyspark import SparkContext\n",
    "from pyspark import HiveContext\n",
    "from pyspark.sql.types import *\n",
    "from pyspark.sql import Row, functions as F\n",
    "#from pyspark.sql import col\n",
    "from pyspark.sql.window import Window\n",
    "#from pyspark.sql import SparkSession\n",
    "from pyspark import SparkContext\n",
    "from pyspark import SparkConf\n",
    "from pyspark.sql.functions import lpad, substring\n",
    "from pyspark.sql.functions import *\n",
    "import os\n",
    "import sys\n",
    "import datetime"
   ]
  },
  {
   "cell_type": "code",
   "execution_count": 2,
   "metadata": {
    "collapsed": true
   },
   "outputs": [],
   "source": [
    "sc = SparkContext(\"yarn-client\", \"Citi_Yarn\")\n",
    "from pyspark.sql import HiveContext\n",
    "sqlContext = HiveContext(sc)\n",
    "hiveContext = HiveContext(sc)"
   ]
  },
  {
   "cell_type": "code",
   "execution_count": null,
   "metadata": {
    "collapsed": true
   },
   "outputs": [],
   "source": []
  },
  {
   "cell_type": "code",
   "execution_count": 3,
   "metadata": {
    "collapsed": true
   },
   "outputs": [],
   "source": [
    "catbeer_sas = sqlContext.read.format(\"com.github.saurfang.sas.spark\").load(\"/user/cloudera/sas/cat_beer.sas7bdat\")"
   ]
  },
  {
   "cell_type": "code",
   "execution_count": 4,
   "metadata": {},
   "outputs": [
    {
     "name": "stdout",
     "output_type": "stream",
     "text": [
      "+---------------+---------+---------+----------+\n",
      "|SponsorLastName|Continent|   Buyers|Price_unit|\n",
      "+---------------+---------+---------+----------+\n",
      "|        Seliger|  America|8456677.0|     45.69|\n",
      "|        Goldman|   Europa| 322225.0|     51.71|\n",
      "|        Guillen|     Asia| 588998.0|     14.66|\n",
      "|          Geren|   Africa|   2664.0|       6.3|\n",
      "+---------------+---------+---------+----------+\n",
      "\n"
     ]
    }
   ],
   "source": [
    "catbeer_sas.show()"
   ]
  },
  {
   "cell_type": "code",
   "execution_count": 5,
   "metadata": {
    "collapsed": true
   },
   "outputs": [],
   "source": [
    "beer_sas = sqlContext.read.format(\"com.github.saurfang.sas.spark\").load(\"/user/cloudera/sas/beer_sponsors.sas7bdat\")"
   ]
  },
  {
   "cell_type": "code",
   "execution_count": 6,
   "metadata": {},
   "outputs": [
    {
     "name": "stdout",
     "output_type": "stream",
     "text": [
      "+---------------+----------------+---------------+----------------+--------------------+---------------+-----------------+-------------+\n",
      "|SponsorLastName|SponsorFirstName|ContribLastName|ContribFirstName| ContribOrganization|ContribEmployer|ContribOccupation|ContribAmount|\n",
      "+---------------+----------------+---------------+----------------+--------------------+---------------+-----------------+-------------+\n",
      "|          Geren|      Charles L.|           NULL|            NULL|             A&M PAC|           NULL|             NULL|       7500.0|\n",
      "|          Geren|      Charles L.|           NULL|            NULL|Abbott Laboratori...|           NULL|             NULL|       2000.0|\n",
      "|          Geren|      Charles L.|           NULL|            NULL|          Abbvie PAC|           NULL|             NULL|       2000.0|\n",
      "|          Geren|      Charles L.|           NULL|            NULL|             ABC PAC|           NULL|             NULL|       3000.0|\n",
      "|          Geren|      Charles L.|           NULL|            NULL|ACT for Texas Cla...|           NULL|             NULL|       2500.0|\n",
      "|          Geren|      Charles L.|           NULL|            NULL|Advance America C...|           NULL|             NULL|        500.0|\n",
      "|          Geren|      Charles L.|           NULL|            NULL|      Aetna Inc. PAC|           NULL|             NULL|       4000.0|\n",
      "|          Geren|      Charles L.|           NULL|            NULL|            AFFA PAC|           NULL|             NULL|       1000.0|\n",
      "|          Geren|      Charles L.|           NULL|            NULL|AFSCME Texas Corr...|           NULL|             NULL|      14000.0|\n",
      "|          Geren|      Charles L.|           NULL|            NULL|AGC Texas Buildin...|           NULL|             NULL|       1000.0|\n",
      "+---------------+----------------+---------------+----------------+--------------------+---------------+-----------------+-------------+\n",
      "only showing top 10 rows\n",
      "\n"
     ]
    }
   ],
   "source": [
    "beer_sas.show(10)"
   ]
  },
  {
   "cell_type": "code",
   "execution_count": 7,
   "metadata": {
    "collapsed": true
   },
   "outputs": [],
   "source": [
    "cruce_sas = beer_sas.alias(\"A\").join(catbeer_sas.alias(\"B\"), beer_sas.SponsorLastName == catbeer_sas.SponsorLastName,how='left').select(\"A.*\",\"B.Continent\",\"B.Price_Unit\")"
   ]
  },
  {
   "cell_type": "code",
   "execution_count": 8,
   "metadata": {},
   "outputs": [
    {
     "name": "stdout",
     "output_type": "stream",
     "text": [
      "root\n",
      " |-- SponsorLastName: string (nullable = true)\n",
      " |-- SponsorFirstName: string (nullable = true)\n",
      " |-- ContribLastName: string (nullable = true)\n",
      " |-- ContribFirstName: string (nullable = true)\n",
      " |-- ContribOrganization: string (nullable = true)\n",
      " |-- ContribEmployer: string (nullable = true)\n",
      " |-- ContribOccupation: string (nullable = true)\n",
      " |-- ContribAmount: double (nullable = true)\n",
      " |-- Continent: string (nullable = true)\n",
      " |-- Price_Unit: double (nullable = true)\n",
      "\n"
     ]
    }
   ],
   "source": [
    "cruce_sas.printSchema()"
   ]
  },
  {
   "cell_type": "code",
   "execution_count": 70,
   "metadata": {},
   "outputs": [],
   "source": [
    "# Agregamos columnas al dataframe que contiene el left join de los dataframes previos\n",
    "# Agregamos diferentes tipos de columnas y funciones de Spark SQL \n",
    "\n",
    "cruce_columnas = cruce_sas.withColumn(\"Pais\", lit(\"Mexico\")).\\\n",
    "withColumn(\"Lote\", lit(8989898 + 100)).\\\n",
    "withColumn(\"Precio\", col(\"Price_Unit\") * 10020.23 ).\\\n",
    "withColumn(\"Inicial\", substring(col(\"Pais\"),1,1)).\\\n",
    "withColumn(\"fecha_proceso\", current_date()).\\\n",
    "withColumn(\"fecha_procesada\", date_add(current_date(),-1)).\\\n",
    "withColumn(\"fecha_auditoria\", current_timestamp()).\\\n",
    "withColumn(\"ejemplo_lpad\", lpad(lit(\"77\"),5,\"0\") ).\\\n",
    "withColumn(\"ejemplo_rpad\", rpad(lit(\"77\"),5,\"0\") ).\\\n",
    "withColumn(\"cast_string\", col(\"ContribAmount\").cast(\"string\")).\\\n",
    "withColumn(\"cast_decimal\",col(\"Price_Unit\").cast(\"decimal(29,4)\") )\n"
   ]
  },
  {
   "cell_type": "code",
   "execution_count": 73,
   "metadata": {},
   "outputs": [
    {
     "name": "stdout",
     "output_type": "stream",
     "text": [
      "root\n",
      " |-- SponsorLastName: string (nullable = true)\n",
      " |-- SponsorFirstName: string (nullable = true)\n",
      " |-- ContribLastName: string (nullable = true)\n",
      " |-- ContribFirstName: string (nullable = true)\n",
      " |-- ContribOrganization: string (nullable = true)\n",
      " |-- ContribEmployer: string (nullable = true)\n",
      " |-- ContribOccupation: string (nullable = true)\n",
      " |-- ContribAmount: double (nullable = true)\n",
      " |-- Continent: string (nullable = true)\n",
      " |-- Price_Unit: double (nullable = true)\n",
      " |-- Pais: string (nullable = false)\n",
      " |-- Lote: integer (nullable = false)\n",
      " |-- Precio: double (nullable = true)\n",
      " |-- Inicial: string (nullable = false)\n",
      " |-- fecha_proceso: date (nullable = false)\n",
      " |-- fecha_procesada: date (nullable = false)\n",
      " |-- fecha_auditoria: timestamp (nullable = false)\n",
      " |-- ejemplo_lpad: string (nullable = false)\n",
      " |-- ejemplo_rpad: string (nullable = false)\n",
      " |-- cast_string: string (nullable = true)\n",
      " |-- cast_decimal: decimal(29,4) (nullable = true)\n",
      "\n"
     ]
    }
   ],
   "source": [
    "#Imprimimos la estructura de dataframe\n",
    "cruce_columnas.printSchema()"
   ]
  },
  {
   "cell_type": "code",
   "execution_count": 71,
   "metadata": {},
   "outputs": [
    {
     "name": "stdout",
     "output_type": "stream",
     "text": [
      "+-------+------------------+-------+-------------+---------------+-----------------------+------------+------------+-----------+\n",
      "|Lote   |Precio            |Inicial|fecha_proceso|fecha_procesada|fecha_auditoria        |ejemplo_lpad|ejemplo_rpad|cast_string|\n",
      "+-------+------------------+-------+-------------+---------------+-----------------------+------------+------------+-----------+\n",
      "|8989998|457824.30869999994|M      |2021-01-14   |2021-01-13     |2021-01-14 18:35:53.071|00077       |77000       |5000.0     |\n",
      "|8989998|457824.30869999994|M      |2021-01-14   |2021-01-13     |2021-01-14 18:35:53.071|00077       |77000       |1000.0     |\n",
      "|8989998|457824.30869999994|M      |2021-01-14   |2021-01-13     |2021-01-14 18:35:53.071|00077       |77000       |2000.0     |\n",
      "|8989998|457824.30869999994|M      |2021-01-14   |2021-01-13     |2021-01-14 18:35:53.071|00077       |77000       |1000.0     |\n",
      "|8989998|457824.30869999994|M      |2021-01-14   |2021-01-13     |2021-01-14 18:35:53.071|00077       |77000       |6000.0     |\n",
      "|8989998|457824.30869999994|M      |2021-01-14   |2021-01-13     |2021-01-14 18:35:53.071|00077       |77000       |1000.0     |\n",
      "|8989998|457824.30869999994|M      |2021-01-14   |2021-01-13     |2021-01-14 18:35:53.071|00077       |77000       |500.0      |\n",
      "|8989998|457824.30869999994|M      |2021-01-14   |2021-01-13     |2021-01-14 18:35:53.071|00077       |77000       |1000.0     |\n",
      "|8989998|457824.30869999994|M      |2021-01-14   |2021-01-13     |2021-01-14 18:35:53.071|00077       |77000       |1000.0     |\n",
      "|8989998|457824.30869999994|M      |2021-01-14   |2021-01-13     |2021-01-14 18:35:53.071|00077       |77000       |4000.0     |\n",
      "+-------+------------------+-------+-------------+---------------+-----------------------+------------+------------+-----------+\n",
      "only showing top 10 rows\n",
      "\n"
     ]
    }
   ],
   "source": [
    "cruce_columnas.select(\"Lote\",\"Precio\",\"Inicial\",\"fecha_proceso\",\"fecha_procesada\",\"fecha_auditoria\",\"ejemplo_lpad\",\"ejemplo_rpad\",\"cast_string\").show(10,False)"
   ]
  },
  {
   "cell_type": "code",
   "execution_count": 72,
   "metadata": {},
   "outputs": [
    {
     "name": "stdout",
     "output_type": "stream",
     "text": [
      "root\n",
      " |-- SponsorLastName: string (nullable = true)\n",
      " |-- SponsorFirstName: string (nullable = true)\n",
      " |-- ContribLastName: string (nullable = true)\n",
      " |-- ContribFirstName: string (nullable = true)\n",
      " |-- ContribOrganization: string (nullable = true)\n",
      " |-- ContribEmployer: string (nullable = true)\n",
      " |-- ContribOccupation: string (nullable = true)\n",
      " |-- ContribAmount: double (nullable = true)\n",
      " |-- Continent: string (nullable = true)\n",
      " |-- Price_Unit: double (nullable = true)\n",
      " |-- Pais: string (nullable = false)\n",
      " |-- Lote: integer (nullable = false)\n",
      " |-- Precio: double (nullable = true)\n",
      " |-- Inicial: string (nullable = false)\n",
      " |-- fecha_proceso: date (nullable = false)\n",
      " |-- fecha_procesada: date (nullable = false)\n",
      " |-- fecha_auditoria: timestamp (nullable = false)\n",
      " |-- ejemplo_lpad: string (nullable = false)\n",
      " |-- ejemplo_rpad: string (nullable = false)\n",
      " |-- cast_string: string (nullable = true)\n",
      " |-- cast_decimal: decimal(29,4) (nullable = true)\n",
      "\n"
     ]
    }
   ],
   "source": [
    "cruce_columnas.printSchema()"
   ]
  },
  {
   "cell_type": "code",
   "execution_count": 26,
   "metadata": {
    "collapsed": true
   },
   "outputs": [],
   "source": [
    "#Funcion 1\n",
    "def actualizaClave(clave):\n",
    "    actualiza=(clave*10) + 20\n",
    "    return actualiza\n",
    "\n",
    "#Funcion que volvemos UDF\n",
    "actualizaClave = udf(actualizaClave)\n",
    "\n",
    "\n",
    "#Funcion 2\n",
    "def calculo(z):\n",
    "    return z * z\n",
    "    \n",
    "#Funcion que volvemos UDF\n",
    "cuadrado = udf(calculo)\n",
    "\n",
    "#Funcion 3\n",
    "def mayusculas(z):\n",
    "    return z.upper()\n",
    "\n",
    "#Funcion que volvemos UDF\n",
    "mayus = udf(mayusculas)\n",
    "\n",
    "fecha=datetime.datetime.now().strftime (\"%y%m%d\")  \n",
    "\n",
    "\n",
    "estado=\"CDMX\"\n",
    "pais=\"Mexico\"\n",
    "empresa=\"Apple\"\n",
    "anio=\"2018\""
   ]
  },
  {
   "cell_type": "code",
   "execution_count": 30,
   "metadata": {
    "collapsed": true
   },
   "outputs": [],
   "source": [
    "employees_modificado = employees_avr.\n",
    "withColumn(\"CVE_DEPTO\", concat(lit(estado),lit(\",\"),lit(pais))).\n",
    "withColumn(\"FCH_Proceso\", lit(fecha).cast(StringType()))          \n",
    "otro = employees_mysql.withColumn(\"Nva_Clave\", cuadrado(\"emp_no\")).\n",
    "withColumn(\"Empresa\", mayus(lit(empresa))).\n",
    "withColumn(\"Anio_Reproceso\",lit(anio))\n",
    "\n"
   ]
  },
  {
   "cell_type": "code",
   "execution_count": null,
   "metadata": {
    "collapsed": true
   },
   "outputs": [],
   "source": []
  },
  {
   "cell_type": "code",
   "execution_count": 31,
   "metadata": {},
   "outputs": [
    {
     "name": "stdout",
     "output_type": "stream",
     "text": [
      "root\n",
      " |-- emp_no: integer (nullable = true)\n",
      " |-- birth_date: long (nullable = true)\n",
      " |-- first_name: string (nullable = true)\n",
      " |-- last_name: string (nullable = true)\n",
      " |-- gender: string (nullable = true)\n",
      " |-- hire_date: long (nullable = true)\n",
      " |-- CVE_DEPTO: string (nullable = false)\n",
      " |-- FCH_Proceso: string (nullable = false)\n",
      "\n"
     ]
    }
   ],
   "source": [
    "employees_modificado.printSchema()"
   ]
  },
  {
   "cell_type": "code",
   "execution_count": 9,
   "metadata": {
    "scrolled": true
   },
   "outputs": [
    {
     "name": "stdout",
     "output_type": "stream",
     "text": [
      "root\n",
      " |-- emp_no: integer (nullable = true)\n",
      " |-- birth_date: long (nullable = true)\n",
      " |-- first_name: string (nullable = true)\n",
      " |-- last_name: string (nullable = true)\n",
      " |-- gender: string (nullable = true)\n",
      " |-- hire_date: long (nullable = true)\n",
      "\n"
     ]
    }
   ],
   "source": [
    "#Guardar el resultado\n",
    "\n",
    "otro.saveAsTable(\"spark_data.pyspark_udf\",mode='overwrite')"
   ]
  },
  {
   "cell_type": "code",
   "execution_count": 32,
   "metadata": {
    "collapsed": true
   },
   "outputs": [],
   "source": [
    "dataframe_mysql = sqlContext.read.format(\"jdbc\").options( url=\"jdbc:mysql://localhost:3306/employees\",driver = \"com.mysql.jdbc.Driver\",dbtable = \"employees\",user=\"root\", password=\"cloudera\").load()"
   ]
  },
  {
   "cell_type": "code",
   "execution_count": 33,
   "metadata": {},
   "outputs": [
    {
     "name": "stdout",
     "output_type": "stream",
     "text": [
      "+------+----------+-----------+---------+------+----------+\n",
      "|emp_no|birth_date| first_name|last_name|gender| hire_date|\n",
      "+------+----------+-----------+---------+------+----------+\n",
      "| 13001|1957-06-29|     Rosita|  Wiegley|     M|1985-03-05|\n",
      "| 13002|1954-12-08|       Henk| Muhlberg|     M|1989-05-02|\n",
      "| 13003|1963-09-21|      Jinxi|     Luft|     M|1991-09-06|\n",
      "| 13004|1952-12-13|        Fan| Beznosov|     M|1990-05-18|\n",
      "| 13005|1959-12-26|    Gilbert|   Kobara|     F|1986-12-08|\n",
      "| 13006|1964-09-01|     Jolita|    Spelt|     M|1986-11-07|\n",
      "| 13007|1960-08-01|      Yagil|  Frolund|     F|1987-10-09|\n",
      "| 13008|1955-12-23|     Jayesh|   Zaumen|     M|1996-03-06|\n",
      "| 13009|1957-11-26|       Marc|    Denis|     F|1995-03-02|\n",
      "| 13010|1960-12-19|     Sachin|     Bach|     M|1988-08-05|\n",
      "| 13011|1955-02-25|      Aamer|Glowinski|     F|1989-10-08|\n",
      "| 13012|1952-02-12|    Florina| Harbusch|     M|1987-12-24|\n",
      "| 13013|1952-10-17|    Heekeun|     Baak|     F|1993-02-24|\n",
      "| 13014|1962-06-01|   Gianluca| Budinsky|     M|1986-01-21|\n",
      "| 13015|1959-02-11|   Nikolaus|    Ozeri|     F|1989-06-21|\n",
      "| 13016|1961-08-15|     Fuqing| Figueira|     F|1986-06-02|\n",
      "| 13017|1956-05-21|      Jouko| Ratnaker|     M|1991-06-07|\n",
      "| 13018|1964-03-14|    Toshimi|  Moehrke|     M|1987-05-10|\n",
      "| 13019|1956-02-04|     Radhia|Mersereau|     M|1987-04-30|\n",
      "| 13020|1962-06-26|Shigeichiro|    Suppi|     F|1987-07-06|\n",
      "+------+----------+-----------+---------+------+----------+\n",
      "only showing top 20 rows\n",
      "\n"
     ]
    }
   ],
   "source": [
    "dataframe_mysql.where(\"emp_no > 13000\").show()"
   ]
  },
  {
   "cell_type": "code",
   "execution_count": 47,
   "metadata": {
    "collapsed": true
   },
   "outputs": [],
   "source": [
    "#Leemos una tabla\n",
    "\n",
    "ecobici_full = hiveContext.table(\"spark_data.ecobici\").where(\"genero_usuario='M'\")\n",
    "\n"
   ]
  },
  {
   "cell_type": "code",
   "execution_count": 48,
   "metadata": {
    "collapsed": true
   },
   "outputs": [],
   "source": [
    "# Generamos una funcion\n",
    "\n",
    "def GuardaMiTabla(df,BD,TABLA):\n",
    "    df2= df.withColumn(\"Area\", lit(\"PLD\"))\n",
    "    df2.write.mode(\"overwrite\").saveAsTable(BD + \".\" + TABLA)\n",
    "    print(\"La tabla: \" + BD + \".\" + TABLA + \" Ha sido generada\")\n"
   ]
  },
  {
   "cell_type": "code",
   "execution_count": 49,
   "metadata": {},
   "outputs": [
    {
     "name": "stdout",
     "output_type": "stream",
     "text": [
      "La tabla: citibanamex.ecobici_mujeres Ha sido generada\n"
     ]
    }
   ],
   "source": [
    "# Guardamos tabla utilizando una funcion\n",
    "\n",
    "GuardaMiTabla(ecobici_full,\"citibanamex\",\"ecobici_mujeres\")"
   ]
  },
  {
   "cell_type": "code",
   "execution_count": 109,
   "metadata": {},
   "outputs": [
    {
     "data": {
      "text/plain": [
       "16"
      ]
     },
     "execution_count": 109,
     "metadata": {},
     "output_type": "execute_result"
    }
   ],
   "source": [
    "import json\n",
    "\n",
    "archivoPar=\"/data_lake/Spark_Citi/input/parametros_citi.json\"\n",
    "parametros  = hiveContext.read.format(\"json\").load(archivoPar, multiLine=True)\n",
    "parametros.count()"
   ]
  },
  {
   "cell_type": "code",
   "execution_count": 71,
   "metadata": {},
   "outputs": [
    {
     "ename": "Py4JJavaError",
     "evalue": "An error occurred while calling z:org.apache.spark.api.python.PythonRDD.collectAndServe.\n: org.apache.spark.SparkException: Job aborted due to stage failure: Task 1 in stage 40.0 failed 4 times, most recent failure: Lost task 1.3 in stage 40.0 (TID 90, quickstart.cloudera, executor 2): org.apache.spark.api.python.PythonException: Traceback (most recent call last):\n  File \"/var/lib/hadoop-yarn/cache/yarn/nm-local-dir/usercache/cloudera/appcache/application_1610581254094_0001/container_1610581254094_0001_01_000003/pyspark.zip/pyspark/worker.py\", line 111, in main\n    process()\n  File \"/var/lib/hadoop-yarn/cache/yarn/nm-local-dir/usercache/cloudera/appcache/application_1610581254094_0001/container_1610581254094_0001_01_000003/pyspark.zip/pyspark/worker.py\", line 106, in process\n    serializer.dump_stream(func(split_index, iterator), outfile)\n  File \"/var/lib/hadoop-yarn/cache/yarn/nm-local-dir/usercache/cloudera/appcache/application_1610581254094_0001/container_1610581254094_0001_01_000003/pyspark.zip/pyspark/serializers.py\", line 263, in dump_stream\n    vs = list(itertools.islice(iterator, batch))\n  File \"<ipython-input-71-1dde06e74421>\", line 1, in <lambda>\n  File \"/var/lib/hadoop-yarn/cache/yarn/nm-local-dir/usercache/cloudera/appcache/application_1610581254094_0001/container_1610581254094_0001_01_000003/pyspark.zip/pyspark/sql/types.py\", line 1247, in __getitem__\n    return super(Row, self).__getitem__(item)\nIndexError: tuple index out of range\n\n\tat org.apache.spark.api.python.PythonRunner$$anon$1.read(PythonRDD.scala:166)\n\tat org.apache.spark.api.python.PythonRunner$$anon$1.<init>(PythonRDD.scala:207)\n\tat org.apache.spark.api.python.PythonRunner.compute(PythonRDD.scala:125)\n\tat org.apache.spark.api.python.PythonRDD.compute(PythonRDD.scala:70)\n\tat org.apache.spark.rdd.RDD.computeOrReadCheckpoint(RDD.scala:306)\n\tat org.apache.spark.rdd.RDD.iterator(RDD.scala:270)\n\tat org.apache.spark.scheduler.ResultTask.runTask(ResultTask.scala:66)\n\tat org.apache.spark.scheduler.Task.run(Task.scala:89)\n\tat org.apache.spark.executor.Executor$TaskRunner.run(Executor.scala:242)\n\tat java.util.concurrent.ThreadPoolExecutor.runWorker(ThreadPoolExecutor.java:1145)\n\tat java.util.concurrent.ThreadPoolExecutor$Worker.run(ThreadPoolExecutor.java:615)\n\tat java.lang.Thread.run(Thread.java:745)\n\nDriver stacktrace:\n\tat org.apache.spark.scheduler.DAGScheduler.org$apache$spark$scheduler$DAGScheduler$$failJobAndIndependentStages(DAGScheduler.scala:1457)\n\tat org.apache.spark.scheduler.DAGScheduler$$anonfun$abortStage$1.apply(DAGScheduler.scala:1445)\n\tat org.apache.spark.scheduler.DAGScheduler$$anonfun$abortStage$1.apply(DAGScheduler.scala:1444)\n\tat scala.collection.mutable.ResizableArray$class.foreach(ResizableArray.scala:59)\n\tat scala.collection.mutable.ArrayBuffer.foreach(ArrayBuffer.scala:47)\n\tat org.apache.spark.scheduler.DAGScheduler.abortStage(DAGScheduler.scala:1444)\n\tat org.apache.spark.scheduler.DAGScheduler$$anonfun$handleTaskSetFailed$1.apply(DAGScheduler.scala:799)\n\tat org.apache.spark.scheduler.DAGScheduler$$anonfun$handleTaskSetFailed$1.apply(DAGScheduler.scala:799)\n\tat scala.Option.foreach(Option.scala:236)\n\tat org.apache.spark.scheduler.DAGScheduler.handleTaskSetFailed(DAGScheduler.scala:799)\n\tat org.apache.spark.scheduler.DAGSchedulerEventProcessLoop.doOnReceive(DAGScheduler.scala:1668)\n\tat org.apache.spark.scheduler.DAGSchedulerEventProcessLoop.onReceive(DAGScheduler.scala:1627)\n\tat org.apache.spark.scheduler.DAGSchedulerEventProcessLoop.onReceive(DAGScheduler.scala:1616)\n\tat org.apache.spark.util.EventLoop$$anon$1.run(EventLoop.scala:48)\n\tat org.apache.spark.scheduler.DAGScheduler.runJob(DAGScheduler.scala:620)\n\tat org.apache.spark.SparkContext.runJob(SparkContext.scala:1862)\n\tat org.apache.spark.SparkContext.runJob(SparkContext.scala:1875)\n\tat org.apache.spark.SparkContext.runJob(SparkContext.scala:1888)\n\tat org.apache.spark.SparkContext.runJob(SparkContext.scala:1959)\n\tat org.apache.spark.rdd.RDD$$anonfun$collect$1.apply(RDD.scala:927)\n\tat org.apache.spark.rdd.RDDOperationScope$.withScope(RDDOperationScope.scala:150)\n\tat org.apache.spark.rdd.RDDOperationScope$.withScope(RDDOperationScope.scala:111)\n\tat org.apache.spark.rdd.RDD.withScope(RDD.scala:316)\n\tat org.apache.spark.rdd.RDD.collect(RDD.scala:926)\n\tat org.apache.spark.api.python.PythonRDD$.collectAndServe(PythonRDD.scala:405)\n\tat org.apache.spark.api.python.PythonRDD.collectAndServe(PythonRDD.scala)\n\tat sun.reflect.NativeMethodAccessorImpl.invoke0(Native Method)\n\tat sun.reflect.NativeMethodAccessorImpl.invoke(NativeMethodAccessorImpl.java:57)\n\tat sun.reflect.DelegatingMethodAccessorImpl.invoke(DelegatingMethodAccessorImpl.java:43)\n\tat java.lang.reflect.Method.invoke(Method.java:606)\n\tat py4j.reflection.MethodInvoker.invoke(MethodInvoker.java:231)\n\tat py4j.reflection.ReflectionEngine.invoke(ReflectionEngine.java:381)\n\tat py4j.Gateway.invoke(Gateway.java:259)\n\tat py4j.commands.AbstractCommand.invokeMethod(AbstractCommand.java:133)\n\tat py4j.commands.CallCommand.execute(CallCommand.java:79)\n\tat py4j.GatewayConnection.run(GatewayConnection.java:209)\n\tat java.lang.Thread.run(Thread.java:745)\nCaused by: org.apache.spark.api.python.PythonException: Traceback (most recent call last):\n  File \"/var/lib/hadoop-yarn/cache/yarn/nm-local-dir/usercache/cloudera/appcache/application_1610581254094_0001/container_1610581254094_0001_01_000003/pyspark.zip/pyspark/worker.py\", line 111, in main\n    process()\n  File \"/var/lib/hadoop-yarn/cache/yarn/nm-local-dir/usercache/cloudera/appcache/application_1610581254094_0001/container_1610581254094_0001_01_000003/pyspark.zip/pyspark/worker.py\", line 106, in process\n    serializer.dump_stream(func(split_index, iterator), outfile)\n  File \"/var/lib/hadoop-yarn/cache/yarn/nm-local-dir/usercache/cloudera/appcache/application_1610581254094_0001/container_1610581254094_0001_01_000003/pyspark.zip/pyspark/serializers.py\", line 263, in dump_stream\n    vs = list(itertools.islice(iterator, batch))\n  File \"<ipython-input-71-1dde06e74421>\", line 1, in <lambda>\n  File \"/var/lib/hadoop-yarn/cache/yarn/nm-local-dir/usercache/cloudera/appcache/application_1610581254094_0001/container_1610581254094_0001_01_000003/pyspark.zip/pyspark/sql/types.py\", line 1247, in __getitem__\n    return super(Row, self).__getitem__(item)\nIndexError: tuple index out of range\n\n\tat org.apache.spark.api.python.PythonRunner$$anon$1.read(PythonRDD.scala:166)\n\tat org.apache.spark.api.python.PythonRunner$$anon$1.<init>(PythonRDD.scala:207)\n\tat org.apache.spark.api.python.PythonRunner.compute(PythonRDD.scala:125)\n\tat org.apache.spark.api.python.PythonRDD.compute(PythonRDD.scala:70)\n\tat org.apache.spark.rdd.RDD.computeOrReadCheckpoint(RDD.scala:306)\n\tat org.apache.spark.rdd.RDD.iterator(RDD.scala:270)\n\tat org.apache.spark.scheduler.ResultTask.runTask(ResultTask.scala:66)\n\tat org.apache.spark.scheduler.Task.run(Task.scala:89)\n\tat org.apache.spark.executor.Executor$TaskRunner.run(Executor.scala:242)\n\tat java.util.concurrent.ThreadPoolExecutor.runWorker(ThreadPoolExecutor.java:1145)\n\tat java.util.concurrent.ThreadPoolExecutor$Worker.run(ThreadPoolExecutor.java:615)\n\t... 1 more\n",
     "output_type": "error",
     "traceback": [
      "\u001b[0;31m---------------------------------------------------------------------------\u001b[0m",
      "\u001b[0;31mPy4JJavaError\u001b[0m                             Traceback (most recent call last)",
      "\u001b[0;32m<ipython-input-71-1dde06e74421>\u001b[0m in \u001b[0;36m<module>\u001b[0;34m()\u001b[0m\n\u001b[0;32m----> 1\u001b[0;31m \u001b[0mdata\u001b[0m \u001b[0;34m=\u001b[0m \u001b[0mparametros\u001b[0m\u001b[0;34m.\u001b[0m\u001b[0mrdd\u001b[0m\u001b[0;34m.\u001b[0m\u001b[0mmap\u001b[0m\u001b[0;34m(\u001b[0m\u001b[0;32mlambda\u001b[0m \u001b[0mx\u001b[0m\u001b[0;34m:\u001b[0m\u001b[0;34m(\u001b[0m\u001b[0mx\u001b[0m\u001b[0;34m[\u001b[0m\u001b[0;36m0\u001b[0m\u001b[0;34m]\u001b[0m\u001b[0;34m,\u001b[0m\u001b[0mx\u001b[0m\u001b[0;34m[\u001b[0m\u001b[0;36m1\u001b[0m\u001b[0;34m]\u001b[0m\u001b[0;34m,\u001b[0m\u001b[0mX\u001b[0m\u001b[0;34m[\u001b[0m\u001b[0;36m2\u001b[0m\u001b[0;34m]\u001b[0m\u001b[0;34m,\u001b[0m\u001b[0mx\u001b[0m\u001b[0;34m[\u001b[0m\u001b[0;36m3\u001b[0m\u001b[0;34m]\u001b[0m\u001b[0;34m)\u001b[0m\u001b[0;34m)\u001b[0m\u001b[0;34m.\u001b[0m\u001b[0mcollectAsMap\u001b[0m\u001b[0;34m(\u001b[0m\u001b[0;34m)\u001b[0m\u001b[0;34m\u001b[0m\u001b[0m\n\u001b[0m",
      "\u001b[0;32m/usr/lib/spark/python/pyspark/rdd.py\u001b[0m in \u001b[0;36mcollectAsMap\u001b[0;34m(self)\u001b[0m\n\u001b[1;32m   1518\u001b[0m         \u001b[0;36m4\u001b[0m\u001b[0;34m\u001b[0m\u001b[0m\n\u001b[1;32m   1519\u001b[0m         \"\"\"\n\u001b[0;32m-> 1520\u001b[0;31m         \u001b[0;32mreturn\u001b[0m \u001b[0mdict\u001b[0m\u001b[0;34m(\u001b[0m\u001b[0mself\u001b[0m\u001b[0;34m.\u001b[0m\u001b[0mcollect\u001b[0m\u001b[0;34m(\u001b[0m\u001b[0;34m)\u001b[0m\u001b[0;34m)\u001b[0m\u001b[0;34m\u001b[0m\u001b[0m\n\u001b[0m\u001b[1;32m   1521\u001b[0m \u001b[0;34m\u001b[0m\u001b[0m\n\u001b[1;32m   1522\u001b[0m     \u001b[0;32mdef\u001b[0m \u001b[0mkeys\u001b[0m\u001b[0;34m(\u001b[0m\u001b[0mself\u001b[0m\u001b[0;34m)\u001b[0m\u001b[0;34m:\u001b[0m\u001b[0;34m\u001b[0m\u001b[0m\n",
      "\u001b[0;32m/usr/lib/spark/python/pyspark/rdd.py\u001b[0m in \u001b[0;36mcollect\u001b[0;34m(self)\u001b[0m\n\u001b[1;32m    769\u001b[0m         \"\"\"\n\u001b[1;32m    770\u001b[0m         \u001b[0;32mwith\u001b[0m \u001b[0mSCCallSiteSync\u001b[0m\u001b[0;34m(\u001b[0m\u001b[0mself\u001b[0m\u001b[0;34m.\u001b[0m\u001b[0mcontext\u001b[0m\u001b[0;34m)\u001b[0m \u001b[0;32mas\u001b[0m \u001b[0mcss\u001b[0m\u001b[0;34m:\u001b[0m\u001b[0;34m\u001b[0m\u001b[0m\n\u001b[0;32m--> 771\u001b[0;31m             \u001b[0mport\u001b[0m \u001b[0;34m=\u001b[0m \u001b[0mself\u001b[0m\u001b[0;34m.\u001b[0m\u001b[0mctx\u001b[0m\u001b[0;34m.\u001b[0m\u001b[0m_jvm\u001b[0m\u001b[0;34m.\u001b[0m\u001b[0mPythonRDD\u001b[0m\u001b[0;34m.\u001b[0m\u001b[0mcollectAndServe\u001b[0m\u001b[0;34m(\u001b[0m\u001b[0mself\u001b[0m\u001b[0;34m.\u001b[0m\u001b[0m_jrdd\u001b[0m\u001b[0;34m.\u001b[0m\u001b[0mrdd\u001b[0m\u001b[0;34m(\u001b[0m\u001b[0;34m)\u001b[0m\u001b[0;34m)\u001b[0m\u001b[0;34m\u001b[0m\u001b[0m\n\u001b[0m\u001b[1;32m    772\u001b[0m         \u001b[0;32mreturn\u001b[0m \u001b[0mlist\u001b[0m\u001b[0;34m(\u001b[0m\u001b[0m_load_from_socket\u001b[0m\u001b[0;34m(\u001b[0m\u001b[0mport\u001b[0m\u001b[0;34m,\u001b[0m \u001b[0mself\u001b[0m\u001b[0;34m.\u001b[0m\u001b[0m_jrdd_deserializer\u001b[0m\u001b[0;34m)\u001b[0m\u001b[0;34m)\u001b[0m\u001b[0;34m\u001b[0m\u001b[0m\n\u001b[1;32m    773\u001b[0m \u001b[0;34m\u001b[0m\u001b[0m\n",
      "\u001b[0;32m/usr/lib/spark/python/lib/py4j-0.9-src.zip/py4j/java_gateway.py\u001b[0m in \u001b[0;36m__call__\u001b[0;34m(self, *args)\u001b[0m\n\u001b[1;32m    811\u001b[0m         \u001b[0manswer\u001b[0m \u001b[0;34m=\u001b[0m \u001b[0mself\u001b[0m\u001b[0;34m.\u001b[0m\u001b[0mgateway_client\u001b[0m\u001b[0;34m.\u001b[0m\u001b[0msend_command\u001b[0m\u001b[0;34m(\u001b[0m\u001b[0mcommand\u001b[0m\u001b[0;34m)\u001b[0m\u001b[0;34m\u001b[0m\u001b[0m\n\u001b[1;32m    812\u001b[0m         return_value = get_return_value(\n\u001b[0;32m--> 813\u001b[0;31m             answer, self.gateway_client, self.target_id, self.name)\n\u001b[0m\u001b[1;32m    814\u001b[0m \u001b[0;34m\u001b[0m\u001b[0m\n\u001b[1;32m    815\u001b[0m         \u001b[0;32mfor\u001b[0m \u001b[0mtemp_arg\u001b[0m \u001b[0;32min\u001b[0m \u001b[0mtemp_args\u001b[0m\u001b[0;34m:\u001b[0m\u001b[0;34m\u001b[0m\u001b[0m\n",
      "\u001b[0;32m/usr/lib/spark/python/pyspark/sql/utils.py\u001b[0m in \u001b[0;36mdeco\u001b[0;34m(*a, **kw)\u001b[0m\n\u001b[1;32m     43\u001b[0m     \u001b[0;32mdef\u001b[0m \u001b[0mdeco\u001b[0m\u001b[0;34m(\u001b[0m\u001b[0;34m*\u001b[0m\u001b[0ma\u001b[0m\u001b[0;34m,\u001b[0m \u001b[0;34m**\u001b[0m\u001b[0mkw\u001b[0m\u001b[0;34m)\u001b[0m\u001b[0;34m:\u001b[0m\u001b[0;34m\u001b[0m\u001b[0m\n\u001b[1;32m     44\u001b[0m         \u001b[0;32mtry\u001b[0m\u001b[0;34m:\u001b[0m\u001b[0;34m\u001b[0m\u001b[0m\n\u001b[0;32m---> 45\u001b[0;31m             \u001b[0;32mreturn\u001b[0m \u001b[0mf\u001b[0m\u001b[0;34m(\u001b[0m\u001b[0;34m*\u001b[0m\u001b[0ma\u001b[0m\u001b[0;34m,\u001b[0m \u001b[0;34m**\u001b[0m\u001b[0mkw\u001b[0m\u001b[0;34m)\u001b[0m\u001b[0;34m\u001b[0m\u001b[0m\n\u001b[0m\u001b[1;32m     46\u001b[0m         \u001b[0;32mexcept\u001b[0m \u001b[0mpy4j\u001b[0m\u001b[0;34m.\u001b[0m\u001b[0mprotocol\u001b[0m\u001b[0;34m.\u001b[0m\u001b[0mPy4JJavaError\u001b[0m \u001b[0;32mas\u001b[0m \u001b[0me\u001b[0m\u001b[0;34m:\u001b[0m\u001b[0;34m\u001b[0m\u001b[0m\n\u001b[1;32m     47\u001b[0m             \u001b[0ms\u001b[0m \u001b[0;34m=\u001b[0m \u001b[0me\u001b[0m\u001b[0;34m.\u001b[0m\u001b[0mjava_exception\u001b[0m\u001b[0;34m.\u001b[0m\u001b[0mtoString\u001b[0m\u001b[0;34m(\u001b[0m\u001b[0;34m)\u001b[0m\u001b[0;34m\u001b[0m\u001b[0m\n",
      "\u001b[0;32m/usr/lib/spark/python/lib/py4j-0.9-src.zip/py4j/protocol.py\u001b[0m in \u001b[0;36mget_return_value\u001b[0;34m(answer, gateway_client, target_id, name)\u001b[0m\n\u001b[1;32m    306\u001b[0m                 raise Py4JJavaError(\n\u001b[1;32m    307\u001b[0m                     \u001b[0;34m\"An error occurred while calling {0}{1}{2}.\\n\"\u001b[0m\u001b[0;34m.\u001b[0m\u001b[0;34m\u001b[0m\u001b[0m\n\u001b[0;32m--> 308\u001b[0;31m                     format(target_id, \".\", name), value)\n\u001b[0m\u001b[1;32m    309\u001b[0m             \u001b[0;32melse\u001b[0m\u001b[0;34m:\u001b[0m\u001b[0;34m\u001b[0m\u001b[0m\n\u001b[1;32m    310\u001b[0m                 raise Py4JError(\n",
      "\u001b[0;31mPy4JJavaError\u001b[0m: An error occurred while calling z:org.apache.spark.api.python.PythonRDD.collectAndServe.\n: org.apache.spark.SparkException: Job aborted due to stage failure: Task 1 in stage 40.0 failed 4 times, most recent failure: Lost task 1.3 in stage 40.0 (TID 90, quickstart.cloudera, executor 2): org.apache.spark.api.python.PythonException: Traceback (most recent call last):\n  File \"/var/lib/hadoop-yarn/cache/yarn/nm-local-dir/usercache/cloudera/appcache/application_1610581254094_0001/container_1610581254094_0001_01_000003/pyspark.zip/pyspark/worker.py\", line 111, in main\n    process()\n  File \"/var/lib/hadoop-yarn/cache/yarn/nm-local-dir/usercache/cloudera/appcache/application_1610581254094_0001/container_1610581254094_0001_01_000003/pyspark.zip/pyspark/worker.py\", line 106, in process\n    serializer.dump_stream(func(split_index, iterator), outfile)\n  File \"/var/lib/hadoop-yarn/cache/yarn/nm-local-dir/usercache/cloudera/appcache/application_1610581254094_0001/container_1610581254094_0001_01_000003/pyspark.zip/pyspark/serializers.py\", line 263, in dump_stream\n    vs = list(itertools.islice(iterator, batch))\n  File \"<ipython-input-71-1dde06e74421>\", line 1, in <lambda>\n  File \"/var/lib/hadoop-yarn/cache/yarn/nm-local-dir/usercache/cloudera/appcache/application_1610581254094_0001/container_1610581254094_0001_01_000003/pyspark.zip/pyspark/sql/types.py\", line 1247, in __getitem__\n    return super(Row, self).__getitem__(item)\nIndexError: tuple index out of range\n\n\tat org.apache.spark.api.python.PythonRunner$$anon$1.read(PythonRDD.scala:166)\n\tat org.apache.spark.api.python.PythonRunner$$anon$1.<init>(PythonRDD.scala:207)\n\tat org.apache.spark.api.python.PythonRunner.compute(PythonRDD.scala:125)\n\tat org.apache.spark.api.python.PythonRDD.compute(PythonRDD.scala:70)\n\tat org.apache.spark.rdd.RDD.computeOrReadCheckpoint(RDD.scala:306)\n\tat org.apache.spark.rdd.RDD.iterator(RDD.scala:270)\n\tat org.apache.spark.scheduler.ResultTask.runTask(ResultTask.scala:66)\n\tat org.apache.spark.scheduler.Task.run(Task.scala:89)\n\tat org.apache.spark.executor.Executor$TaskRunner.run(Executor.scala:242)\n\tat java.util.concurrent.ThreadPoolExecutor.runWorker(ThreadPoolExecutor.java:1145)\n\tat java.util.concurrent.ThreadPoolExecutor$Worker.run(ThreadPoolExecutor.java:615)\n\tat java.lang.Thread.run(Thread.java:745)\n\nDriver stacktrace:\n\tat org.apache.spark.scheduler.DAGScheduler.org$apache$spark$scheduler$DAGScheduler$$failJobAndIndependentStages(DAGScheduler.scala:1457)\n\tat org.apache.spark.scheduler.DAGScheduler$$anonfun$abortStage$1.apply(DAGScheduler.scala:1445)\n\tat org.apache.spark.scheduler.DAGScheduler$$anonfun$abortStage$1.apply(DAGScheduler.scala:1444)\n\tat scala.collection.mutable.ResizableArray$class.foreach(ResizableArray.scala:59)\n\tat scala.collection.mutable.ArrayBuffer.foreach(ArrayBuffer.scala:47)\n\tat org.apache.spark.scheduler.DAGScheduler.abortStage(DAGScheduler.scala:1444)\n\tat org.apache.spark.scheduler.DAGScheduler$$anonfun$handleTaskSetFailed$1.apply(DAGScheduler.scala:799)\n\tat org.apache.spark.scheduler.DAGScheduler$$anonfun$handleTaskSetFailed$1.apply(DAGScheduler.scala:799)\n\tat scala.Option.foreach(Option.scala:236)\n\tat org.apache.spark.scheduler.DAGScheduler.handleTaskSetFailed(DAGScheduler.scala:799)\n\tat org.apache.spark.scheduler.DAGSchedulerEventProcessLoop.doOnReceive(DAGScheduler.scala:1668)\n\tat org.apache.spark.scheduler.DAGSchedulerEventProcessLoop.onReceive(DAGScheduler.scala:1627)\n\tat org.apache.spark.scheduler.DAGSchedulerEventProcessLoop.onReceive(DAGScheduler.scala:1616)\n\tat org.apache.spark.util.EventLoop$$anon$1.run(EventLoop.scala:48)\n\tat org.apache.spark.scheduler.DAGScheduler.runJob(DAGScheduler.scala:620)\n\tat org.apache.spark.SparkContext.runJob(SparkContext.scala:1862)\n\tat org.apache.spark.SparkContext.runJob(SparkContext.scala:1875)\n\tat org.apache.spark.SparkContext.runJob(SparkContext.scala:1888)\n\tat org.apache.spark.SparkContext.runJob(SparkContext.scala:1959)\n\tat org.apache.spark.rdd.RDD$$anonfun$collect$1.apply(RDD.scala:927)\n\tat org.apache.spark.rdd.RDDOperationScope$.withScope(RDDOperationScope.scala:150)\n\tat org.apache.spark.rdd.RDDOperationScope$.withScope(RDDOperationScope.scala:111)\n\tat org.apache.spark.rdd.RDD.withScope(RDD.scala:316)\n\tat org.apache.spark.rdd.RDD.collect(RDD.scala:926)\n\tat org.apache.spark.api.python.PythonRDD$.collectAndServe(PythonRDD.scala:405)\n\tat org.apache.spark.api.python.PythonRDD.collectAndServe(PythonRDD.scala)\n\tat sun.reflect.NativeMethodAccessorImpl.invoke0(Native Method)\n\tat sun.reflect.NativeMethodAccessorImpl.invoke(NativeMethodAccessorImpl.java:57)\n\tat sun.reflect.DelegatingMethodAccessorImpl.invoke(DelegatingMethodAccessorImpl.java:43)\n\tat java.lang.reflect.Method.invoke(Method.java:606)\n\tat py4j.reflection.MethodInvoker.invoke(MethodInvoker.java:231)\n\tat py4j.reflection.ReflectionEngine.invoke(ReflectionEngine.java:381)\n\tat py4j.Gateway.invoke(Gateway.java:259)\n\tat py4j.commands.AbstractCommand.invokeMethod(AbstractCommand.java:133)\n\tat py4j.commands.CallCommand.execute(CallCommand.java:79)\n\tat py4j.GatewayConnection.run(GatewayConnection.java:209)\n\tat java.lang.Thread.run(Thread.java:745)\nCaused by: org.apache.spark.api.python.PythonException: Traceback (most recent call last):\n  File \"/var/lib/hadoop-yarn/cache/yarn/nm-local-dir/usercache/cloudera/appcache/application_1610581254094_0001/container_1610581254094_0001_01_000003/pyspark.zip/pyspark/worker.py\", line 111, in main\n    process()\n  File \"/var/lib/hadoop-yarn/cache/yarn/nm-local-dir/usercache/cloudera/appcache/application_1610581254094_0001/container_1610581254094_0001_01_000003/pyspark.zip/pyspark/worker.py\", line 106, in process\n    serializer.dump_stream(func(split_index, iterator), outfile)\n  File \"/var/lib/hadoop-yarn/cache/yarn/nm-local-dir/usercache/cloudera/appcache/application_1610581254094_0001/container_1610581254094_0001_01_000003/pyspark.zip/pyspark/serializers.py\", line 263, in dump_stream\n    vs = list(itertools.islice(iterator, batch))\n  File \"<ipython-input-71-1dde06e74421>\", line 1, in <lambda>\n  File \"/var/lib/hadoop-yarn/cache/yarn/nm-local-dir/usercache/cloudera/appcache/application_1610581254094_0001/container_1610581254094_0001_01_000003/pyspark.zip/pyspark/sql/types.py\", line 1247, in __getitem__\n    return super(Row, self).__getitem__(item)\nIndexError: tuple index out of range\n\n\tat org.apache.spark.api.python.PythonRunner$$anon$1.read(PythonRDD.scala:166)\n\tat org.apache.spark.api.python.PythonRunner$$anon$1.<init>(PythonRDD.scala:207)\n\tat org.apache.spark.api.python.PythonRunner.compute(PythonRDD.scala:125)\n\tat org.apache.spark.api.python.PythonRDD.compute(PythonRDD.scala:70)\n\tat org.apache.spark.rdd.RDD.computeOrReadCheckpoint(RDD.scala:306)\n\tat org.apache.spark.rdd.RDD.iterator(RDD.scala:270)\n\tat org.apache.spark.scheduler.ResultTask.runTask(ResultTask.scala:66)\n\tat org.apache.spark.scheduler.Task.run(Task.scala:89)\n\tat org.apache.spark.executor.Executor$TaskRunner.run(Executor.scala:242)\n\tat java.util.concurrent.ThreadPoolExecutor.runWorker(ThreadPoolExecutor.java:1145)\n\tat java.util.concurrent.ThreadPoolExecutor$Worker.run(ThreadPoolExecutor.java:615)\n\t... 1 more\n"
     ]
    }
   ],
   "source": [
    "data = parametros.rdd.map(lambda x:(x[0],x[1],X[2],x[3])).collectAsMap()"
   ]
  },
  {
   "cell_type": "code",
   "execution_count": 112,
   "metadata": {},
   "outputs": [
    {
     "data": {
      "text/plain": [
       "[Row(_corrupt_record=u'['),\n",
       " Row(_corrupt_record=u'    {\"Hombres\":['),\n",
       " Row(_corrupt_record=u'              {'),\n",
       " Row(_corrupt_record=u'\\t\\t\\t   \"BD\":\"citibanamex\",'),\n",
       " Row(_corrupt_record=u'\\t\\t\\t   \"TABLA\":\"citi_hombres\",'),\n",
       " Row(_corrupt_record=u'\\t\\t\\t   \"MODO\":\"overwrite\"'),\n",
       " Row(_corrupt_record=u'\\t\\t\\t   }'),\n",
       " Row(_corrupt_record=u'\\t\\t\\t\\t]},'),\n",
       " Row(_corrupt_record=u'    {\"Mujeres\":['),\n",
       " Row(_corrupt_record=u'              {'),\n",
       " Row(_corrupt_record=u'\\t\\t\\t   \"BD\":\"citibanamex\",'),\n",
       " Row(_corrupt_record=u'\\t\\t\\t   \"TABLA\":\"citi_mujeres\",'),\n",
       " Row(_corrupt_record=u'\\t\\t\\t   \"MODO\":\"overwrite\"'),\n",
       " Row(_corrupt_record=u'\\t\\t\\t   }'),\n",
       " Row(_corrupt_record=u'\\t\\t\\t\\t]}'),\n",
       " Row(_corrupt_record=u']')]"
      ]
     },
     "execution_count": 112,
     "metadata": {},
     "output_type": "execute_result"
    }
   ],
   "source": [
    "\n",
    "fileName = \"/data_lake/Spark_Citi/input/parametros_citi.json\" \n",
    "data  = hiveContext.read.format(\"json\").load(fileName,multiLine=True)\n",
    "data2 = data.rdd.map(lambda x: x)\n",
    "data2.collect()\n",
    "\n"
   ]
  }
 ],
 "metadata": {
  "kernelspec": {
   "display_name": "Python 2",
   "language": "python",
   "name": "python2"
  },
  "language_info": {
   "codemirror_mode": {
    "name": "ipython",
    "version": 2
   },
   "file_extension": ".py",
   "mimetype": "text/x-python",
   "name": "python",
   "nbconvert_exporter": "python",
   "pygments_lexer": "ipython2",
   "version": "2.7.13"
  }
 },
 "nbformat": 4,
 "nbformat_minor": 2
}
